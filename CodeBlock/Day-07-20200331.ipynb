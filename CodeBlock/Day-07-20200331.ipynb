{
 "cells": [
  {
   "cell_type": "markdown",
   "metadata": {},
   "source": [
    "#### XGBoost"
   ]
  },
  {
   "cell_type": "markdown",
   "metadata": {},
   "source": [
    "1. speed and performance\n",
    "2. core parallelization\n",
    "3. outperforms single algorithm methods. "
   ]
  },
  {
   "cell_type": "code",
   "execution_count": 1,
   "metadata": {},
   "outputs": [],
   "source": [
    "import xgboost as xgb\n",
    "import pandas as pd\n",
    "import numpy as np\n",
    "from sklearn.model_selection import train_test_split"
   ]
  },
  {
   "cell_type": "code",
   "execution_count": 21,
   "metadata": {},
   "outputs": [
    {
     "name": "stdout",
     "output_type": "stream",
     "text": [
      "chrun data shape -  (14999, 10)\n"
     ]
    },
    {
     "data": {
      "text/html": [
       "<div>\n",
       "<style scoped>\n",
       "    .dataframe tbody tr th:only-of-type {\n",
       "        vertical-align: middle;\n",
       "    }\n",
       "\n",
       "    .dataframe tbody tr th {\n",
       "        vertical-align: top;\n",
       "    }\n",
       "\n",
       "    .dataframe thead th {\n",
       "        text-align: right;\n",
       "    }\n",
       "</style>\n",
       "<table border=\"1\" class=\"dataframe\">\n",
       "  <thead>\n",
       "    <tr style=\"text-align: right;\">\n",
       "      <th></th>\n",
       "      <th>satisfaction</th>\n",
       "      <th>evaluation</th>\n",
       "      <th>number_of_projects</th>\n",
       "      <th>average_montly_hours</th>\n",
       "      <th>time_spend_company</th>\n",
       "      <th>work_accident</th>\n",
       "      <th>churn</th>\n",
       "      <th>promotion</th>\n",
       "      <th>department</th>\n",
       "      <th>salary</th>\n",
       "    </tr>\n",
       "  </thead>\n",
       "  <tbody>\n",
       "    <tr>\n",
       "      <th>0</th>\n",
       "      <td>0.38</td>\n",
       "      <td>0.53</td>\n",
       "      <td>2</td>\n",
       "      <td>157</td>\n",
       "      <td>3</td>\n",
       "      <td>0</td>\n",
       "      <td>1</td>\n",
       "      <td>0</td>\n",
       "      <td>sales</td>\n",
       "      <td>low</td>\n",
       "    </tr>\n",
       "    <tr>\n",
       "      <th>1</th>\n",
       "      <td>0.80</td>\n",
       "      <td>0.86</td>\n",
       "      <td>5</td>\n",
       "      <td>262</td>\n",
       "      <td>6</td>\n",
       "      <td>0</td>\n",
       "      <td>1</td>\n",
       "      <td>0</td>\n",
       "      <td>sales</td>\n",
       "      <td>medium</td>\n",
       "    </tr>\n",
       "    <tr>\n",
       "      <th>2</th>\n",
       "      <td>0.11</td>\n",
       "      <td>0.88</td>\n",
       "      <td>7</td>\n",
       "      <td>272</td>\n",
       "      <td>4</td>\n",
       "      <td>0</td>\n",
       "      <td>1</td>\n",
       "      <td>0</td>\n",
       "      <td>sales</td>\n",
       "      <td>medium</td>\n",
       "    </tr>\n",
       "    <tr>\n",
       "      <th>3</th>\n",
       "      <td>0.72</td>\n",
       "      <td>0.87</td>\n",
       "      <td>5</td>\n",
       "      <td>223</td>\n",
       "      <td>5</td>\n",
       "      <td>0</td>\n",
       "      <td>1</td>\n",
       "      <td>0</td>\n",
       "      <td>sales</td>\n",
       "      <td>low</td>\n",
       "    </tr>\n",
       "    <tr>\n",
       "      <th>4</th>\n",
       "      <td>0.37</td>\n",
       "      <td>0.52</td>\n",
       "      <td>2</td>\n",
       "      <td>159</td>\n",
       "      <td>3</td>\n",
       "      <td>0</td>\n",
       "      <td>1</td>\n",
       "      <td>0</td>\n",
       "      <td>sales</td>\n",
       "      <td>low</td>\n",
       "    </tr>\n",
       "  </tbody>\n",
       "</table>\n",
       "</div>"
      ],
      "text/plain": [
       "   satisfaction  evaluation  number_of_projects  average_montly_hours  \\\n",
       "0          0.38        0.53                   2                   157   \n",
       "1          0.80        0.86                   5                   262   \n",
       "2          0.11        0.88                   7                   272   \n",
       "3          0.72        0.87                   5                   223   \n",
       "4          0.37        0.52                   2                   159   \n",
       "\n",
       "   time_spend_company  work_accident  churn  promotion department  salary  \n",
       "0                   3              0      1          0      sales     low  \n",
       "1                   6              0      1          0      sales  medium  \n",
       "2                   4              0      1          0      sales  medium  \n",
       "3                   5              0      1          0      sales     low  \n",
       "4                   3              0      1          0      sales     low  "
      ]
     },
     "metadata": {},
     "output_type": "display_data"
    }
   ],
   "source": [
    "churn_data = pd.read_csv(\"churn_data.csv\")\n",
    "print(\"chrun data shape - \",churn_data.shape)\n",
    "display(churn_data.head())"
   ]
  },
  {
   "cell_type": "code",
   "execution_count": 22,
   "metadata": {},
   "outputs": [],
   "source": [
    "y = churn_data[[\"churn\"]]\n",
    "X = churn_data.drop([\"churn\"], axis = 1 )"
   ]
  },
  {
   "cell_type": "code",
   "execution_count": 8,
   "metadata": {},
   "outputs": [
    {
     "name": "stdout",
     "output_type": "stream",
     "text": [
      "churn value counts  - \n",
      " 0    11428\n",
      "1     3571\n",
      "Name: churn, dtype: int64\n",
      "\n",
      "\n",
      "unique of departments -  ['sales' 'accounting' 'hr' 'technical' 'support' 'management' 'IT'\n",
      " 'product_mng' 'marketing' 'RandD']\n",
      "\n",
      "\n",
      "unique of departments -  ['low' 'medium' 'high']\n",
      "\n",
      "\n",
      "dtypes of churn data - \n",
      " satisfaction            float64\n",
      "evaluation              float64\n",
      "number_of_projects        int64\n",
      "average_montly_hours      int64\n",
      "time_spend_company        int64\n",
      "work_accident             int64\n",
      "churn                     int64\n",
      "promotion                 int64\n",
      "department               object\n",
      "salary                   object\n",
      "dtype: object\n"
     ]
    }
   ],
   "source": [
    "print(\"churn value counts  - \\n\",churn_data.churn.value_counts())\n",
    "\n",
    "print(\"\\n\\nunique of departments - \",churn_data.department.unique())\n",
    "\n",
    "print(\"\\n\\nunique of departments - \",churn_data.salary.unique())\n",
    "\n",
    "print(\"\\n\\ndtypes of churn data - \\n\", churn_data.dtypes)"
   ]
  },
  {
   "cell_type": "markdown",
   "metadata": {},
   "source": [
    "xgbBoost needs [encoding](http://appliedpredictivemodeling.com/blog/2013/10/23/the-basics-of-encoding-categorical-data-for-predictive-models). xgboost only deals with numeric columns. Using __LIGHTLBM__ or __CATBOOST__ ```categorical_features``` column takes all the categorical variables<br>\n",
    "[```pandas.get_dummies()```](https://pandas.pydata.org/pandas-docs/stable/reference/api/pandas.get_dummies.html)"
   ]
  },
  {
   "cell_type": "code",
   "execution_count": 23,
   "metadata": {},
   "outputs": [
    {
     "name": "stdout",
     "output_type": "stream",
     "text": [
      "False\n",
      "False\n"
     ]
    }
   ],
   "source": [
    "categorical_variables = []\n",
    "## convert categorical variables into one hot encoding \n",
    "for col , dtype in zip(X.columns, X.dtypes):\n",
    "    if dtype == object :\n",
    "        categorical_variables.append(col)\n",
    "        ## append s list of categorical variables\n",
    "        \n",
    "for columns in categorical_variables:\n",
    "    ## get dummies\n",
    "    cat_var_dummies = pd.get_dummies(X[columns], prefix= columns, dummy_na=True)\n",
    "    \n",
    "    ## get_dummies ignore Nan rows while getting dummes\n",
    "    \n",
    "    print(X[columns].isna().any())\n",
    "    X.drop([columns], axis = 1 , inplace = True)\n",
    "    \n",
    "    for cols in cat_var_dummies.columns:\n",
    "        X[cols] = cat_var_dummies[cols]"
   ]
  },
  {
   "cell_type": "markdown",
   "metadata": {},
   "source": [
    "-- XG boost check the variables and see for categorical ones"
   ]
  },
  {
   "cell_type": "code",
   "execution_count": 10,
   "metadata": {},
   "outputs": [
    {
     "data": {
      "text/html": [
       "<div>\n",
       "<style scoped>\n",
       "    .dataframe tbody tr th:only-of-type {\n",
       "        vertical-align: middle;\n",
       "    }\n",
       "\n",
       "    .dataframe tbody tr th {\n",
       "        vertical-align: top;\n",
       "    }\n",
       "\n",
       "    .dataframe thead th {\n",
       "        text-align: right;\n",
       "    }\n",
       "</style>\n",
       "<table border=\"1\" class=\"dataframe\">\n",
       "  <thead>\n",
       "    <tr style=\"text-align: right;\">\n",
       "      <th></th>\n",
       "      <th>satisfaction</th>\n",
       "      <th>evaluation</th>\n",
       "      <th>number_of_projects</th>\n",
       "      <th>average_montly_hours</th>\n",
       "      <th>time_spend_company</th>\n",
       "      <th>work_accident</th>\n",
       "      <th>promotion</th>\n",
       "      <th>department_IT</th>\n",
       "      <th>department_RandD</th>\n",
       "      <th>department_accounting</th>\n",
       "      <th>...</th>\n",
       "      <th>department_marketing</th>\n",
       "      <th>department_product_mng</th>\n",
       "      <th>department_sales</th>\n",
       "      <th>department_support</th>\n",
       "      <th>department_technical</th>\n",
       "      <th>department_nan</th>\n",
       "      <th>salary_high</th>\n",
       "      <th>salary_low</th>\n",
       "      <th>salary_medium</th>\n",
       "      <th>salary_nan</th>\n",
       "    </tr>\n",
       "  </thead>\n",
       "  <tbody>\n",
       "    <tr>\n",
       "      <th>0</th>\n",
       "      <td>0.38</td>\n",
       "      <td>0.53</td>\n",
       "      <td>2</td>\n",
       "      <td>157</td>\n",
       "      <td>3</td>\n",
       "      <td>0</td>\n",
       "      <td>0</td>\n",
       "      <td>0</td>\n",
       "      <td>0</td>\n",
       "      <td>0</td>\n",
       "      <td>...</td>\n",
       "      <td>0</td>\n",
       "      <td>0</td>\n",
       "      <td>1</td>\n",
       "      <td>0</td>\n",
       "      <td>0</td>\n",
       "      <td>0</td>\n",
       "      <td>0</td>\n",
       "      <td>1</td>\n",
       "      <td>0</td>\n",
       "      <td>0</td>\n",
       "    </tr>\n",
       "  </tbody>\n",
       "</table>\n",
       "<p>1 rows × 22 columns</p>\n",
       "</div>"
      ],
      "text/plain": [
       "   satisfaction  evaluation  number_of_projects  average_montly_hours  \\\n",
       "0          0.38        0.53                   2                   157   \n",
       "\n",
       "   time_spend_company  work_accident  promotion  department_IT  \\\n",
       "0                   3              0          0              0   \n",
       "\n",
       "   department_RandD  department_accounting  ...  department_marketing  \\\n",
       "0                 0                      0  ...                     0   \n",
       "\n",
       "   department_product_mng  department_sales  department_support  \\\n",
       "0                       0                 1                   0   \n",
       "\n",
       "   department_technical  department_nan  salary_high  salary_low  \\\n",
       "0                     0               0            0           1   \n",
       "\n",
       "   salary_medium  salary_nan  \n",
       "0              0           0  \n",
       "\n",
       "[1 rows x 22 columns]"
      ]
     },
     "execution_count": 10,
     "metadata": {},
     "output_type": "execute_result"
    }
   ],
   "source": [
    "X.head(1)"
   ]
  },
  {
   "cell_type": "markdown",
   "metadata": {},
   "source": [
    "[n_estimators for scikit learn API or num_boost_round](https://stackoverflow.com/questions/46234806/what-n-estimators-and-max-features-means-in-randomforestregressor/46234913) [[1]](https://stackoverflow.com/questions/48051749/what-is-the-difference-between-num-boost-round-and-n-estimators)<br>\n",
    "[max_features](https://stackoverflow.com/questions/23939750/understanding-max-features-parameter-in-randomforestregressor/23950648#23950648)<br>\n",
    "[objective and feval in XGB](https://stackoverflow.com/questions/34178287/difference-between-objective-and-feval-in-xgboost)<br>\n",
    "[weight of evidence and information value](https://www.listendata.com/2015/03/weight-of-evidence-woe-and-information.html)<br>\n",
    "[gamma](https://www.kaggle.com/c/santander-customer-satisfaction/discussion/20662)"
   ]
  },
  {
   "cell_type": "code",
   "execution_count": 13,
   "metadata": {
    "scrolled": true
   },
   "outputs": [
    {
     "name": "stdout",
     "output_type": "stream",
     "text": [
      "[00:12:42] ======== Monitor: Learner ========\n",
      "[00:12:42] GetGradient: 0.0156225s, 10 calls @ 1562us\n",
      "[00:12:42] PredictRaw: 0.0024187s, 10 calls @ 241us\n",
      "[00:12:42] UpdateOneIter: 0.197145s, 10 calls @ 19714us\n",
      "[00:12:42] ======== Monitor: GBTree ========\n",
      "[00:12:42] BoostNewTrees: 0.179103s, 10 calls @ 17910us\n",
      "[00:12:42] CommitModel: 0s, 10 calls @ 0us\n",
      "[00:12:42] INFO: src/tree/updater_prune.cc:74: tree pruning end, 1 roots, 14 extra nodes, 0 pruned nodes, max_depth=3\n",
      "[00:12:42] INFO: src/tree/updater_prune.cc:74: tree pruning end, 1 roots, 14 extra nodes, 0 pruned nodes, max_depth=3\n",
      "[00:12:42] INFO: src/tree/updater_prune.cc:74: tree pruning end, 1 roots, 14 extra nodes, 0 pruned nodes, max_depth=3\n",
      "[00:12:42] INFO: src/tree/updater_prune.cc:74: tree pruning end, 1 roots, 14 extra nodes, 0 pruned nodes, max_depth=3\n",
      "[00:12:42] INFO: src/tree/updater_prune.cc:74: tree pruning end, 1 roots, 14 extra nodes, 0 pruned nodes, max_depth=3\n",
      "[00:12:42] INFO: src/tree/updater_prune.cc:74: tree pruning end, 1 roots, 14 extra nodes, 0 pruned nodes, max_depth=3\n",
      "[00:12:42] INFO: src/tree/updater_prune.cc:74: tree pruning end, 1 roots, 14 extra nodes, 0 pruned nodes, max_depth=3"
     ]
    },
    {
     "name": "stderr",
     "output_type": "stream",
     "text": [
      "C:\\Users\\chris.aloysious\\AppData\\Local\\Continuum\\anaconda3\\lib\\site-packages\\sklearn\\preprocessing\\label.py:219: DataConversionWarning: A column-vector y was passed when a 1d array was expected. Please change the shape of y to (n_samples, ), for example using ravel().\n",
      "  y = column_or_1d(y, warn=True)\n",
      "C:\\Users\\chris.aloysious\\AppData\\Local\\Continuum\\anaconda3\\lib\\site-packages\\sklearn\\preprocessing\\label.py:252: DataConversionWarning: A column-vector y was passed when a 1d array was expected. Please change the shape of y to (n_samples, ), for example using ravel().\n",
      "  y = column_or_1d(y, warn=True)\n"
     ]
    },
    {
     "name": "stdout",
     "output_type": "stream",
     "text": [
      "\n",
      "[00:12:42] INFO: src/tree/updater_prune.cc:74: tree pruning end, 1 roots, 14 extra nodes, 0 pruned nodes, max_depth=3\n",
      "[00:12:42] INFO: src/tree/updater_prune.cc:74: tree pruning end, 1 roots, 14 extra nodes, 0 pruned nodes, max_depth=3\n",
      "[00:12:42] INFO: src/tree/updater_prune.cc:74: tree pruning end, 1 roots, 14 extra nodes, 0 pruned nodes, max_depth=3\n"
     ]
    },
    {
     "data": {
      "text/plain": [
       "0.966"
      ]
     },
     "metadata": {},
     "output_type": "display_data"
    }
   ],
   "source": [
    "X_train, X_test, y_train, y_test = train_test_split(X,y, random_state = 40, test_size = 0.2)\n",
    "\n",
    "xg_cl = xgb.XGBClassifier(objective = \"binary:logistic\",\n",
    "                          n_estimators = 10,\n",
    "                          seed = 123,\n",
    "                          verbosity = 3)\n",
    "xg_cl.fit (X_train, y_train )\n",
    "\n",
    "pred = xg_cl.predict(X_test)\n",
    "\n",
    "accuracy = float(np.sum(pred==y_test.churn.to_numpy()))/y_test.shape[0]\n",
    "display(accuracy)"
   ]
  },
  {
   "cell_type": "markdown",
   "metadata": {},
   "source": [
    "[Feature Importance](https://machinelearningmastery.com/feature-importance-and-feature-selection-with-xgboost-in-python/) using xgbClassifer. <br>\n",
    "Learning Rate and # of trees needs to managed according, if high learning rate, then trees need to be more else vice versa"
   ]
  },
  {
   "cell_type": "code",
   "execution_count": 35,
   "metadata": {},
   "outputs": [
    {
     "data": {
      "text/plain": [
       "XGBClassifier(base_score=0.5, booster='gbtree', colsample_bylevel=1,\n",
       "              colsample_bynode=1, colsample_bytree=1, gamma=0,\n",
       "              learning_rate=0.1, max_delta_step=0, max_depth=3,\n",
       "              min_child_weight=1, missing=None, n_estimators=10, n_jobs=1,\n",
       "              nthread=None, objective='binary:logistic', random_state=0,\n",
       "              reg_alpha=0, reg_lambda=1, scale_pos_weight=1, seed=123,\n",
       "              silent=None, subsample=1, verbosity=3)"
      ]
     },
     "execution_count": 35,
     "metadata": {},
     "output_type": "execute_result"
    }
   ],
   "source": [
    "xg_cl"
   ]
  },
  {
   "cell_type": "code",
   "execution_count": 36,
   "metadata": {},
   "outputs": [
    {
     "data": {
      "text/plain": [
       "array([0.43546143, 0.13948922, 0.16830975, 0.05355989, 0.20317967,\n",
       "       0.        , 0.        , 0.        , 0.        , 0.        ,\n",
       "       0.        , 0.        , 0.        , 0.        , 0.        ,\n",
       "       0.        , 0.        , 0.        , 0.        , 0.        ,\n",
       "       0.        , 0.        ], dtype=float32)"
      ]
     },
     "execution_count": 36,
     "metadata": {},
     "output_type": "execute_result"
    }
   ],
   "source": [
    "xg_cl.feature_importances_"
   ]
  },
  {
   "cell_type": "code",
   "execution_count": 34,
   "metadata": {},
   "outputs": [
    {
     "data": {
      "image/png": "[encoded data removed]",
      "text/plain": [
       "<Figure size 720x720 with 1 Axes>"
      ]
     },
     "metadata": {
      "needs_background": "light"
     },
     "output_type": "display_data"
    }
   ],
   "source": [
    "import matplotlib.pyplot as plt\n",
    "fig, ax = plt.subplots(1,1,figsize=(10,10))\n",
    "xgb.plot_importance(xg_cl, ax = ax)\n",
    "plt.show()"
   ]
  },
  {
   "cell_type": "code",
   "execution_count": 24,
   "metadata": {},
   "outputs": [
    {
     "name": "stdout",
     "output_type": "stream",
     "text": [
      "accuracy: 0.968\n"
     ]
    }
   ],
   "source": [
    "# Import the necessary modules\n",
    "from sklearn.tree import DecisionTreeClassifier\n",
    "from sklearn.model_selection import train_test_split\n",
    "\n",
    "# Create the training and test sets\n",
    "X_train, X_test, y_train, y_test = train_test_split(X,y, test_size=0.2, random_state=123)\n",
    "\n",
    "# Instantiate the classifier: dt_clf_4\n",
    "dt_clf_4 = DecisionTreeClassifier(max_depth=4)\n",
    "\n",
    "# Fit the classifier to the training set\n",
    "dt_clf_4.fit(X_train,y_train)\n",
    "\n",
    "# Predict the labels of the test set: y_pred_4\n",
    "y_pred_4 = dt_clf_4.predict(X_test)\n",
    "\n",
    "# Compute the accuracy of the predictions: accuracy\n",
    "## accuracy metric \n",
    "## y_test.churn.to_numpy() makes an array as in  -- array[()]\n",
    "accuracy = float(np.sum(y_pred_4==y_test.churn.to_numpy()))/y_test.shape[0]\n",
    "print(\"accuracy:\", accuracy)"
   ]
  },
  {
   "cell_type": "code",
   "execution_count": 25,
   "metadata": {},
   "outputs": [
    {
     "name": "stdout",
     "output_type": "stream",
     "text": [
      "              precision    recall  f1-score   support\n",
      "\n",
      "           0       0.98      0.98      0.98      2291\n",
      "           1       0.94      0.92      0.93       709\n",
      "\n",
      "    accuracy                           0.97      3000\n",
      "   macro avg       0.96      0.95      0.96      3000\n",
      "weighted avg       0.97      0.97      0.97      3000\n",
      "\n"
     ]
    }
   ],
   "source": [
    "from sklearn.metrics import classification_report\n",
    "\n",
    "print(classification_report(y_test, dt_clf_4.predict(X_test))) #  target_names=target_names"
   ]
  },
  {
   "cell_type": "code",
   "execution_count": 41,
   "metadata": {},
   "outputs": [
    {
     "name": "stdout",
     "output_type": "stream",
     "text": [
      "   train-error-mean  train-error-std  test-error-mean  test-error-std\n",
      "0          0.030580         0.000403         0.033069        0.001321\n",
      "1          0.026535         0.001432         0.028668        0.000609\n",
      "2          0.027935         0.002434         0.028935        0.002887\n",
      "3          0.025935         0.000317         0.026935        0.000964\n",
      "4          0.027224         0.001442         0.028402        0.000717\n",
      "5          0.026380         0.000667         0.027668        0.000479\n",
      "6          0.026402         0.000778         0.027535        0.000513\n",
      "7          0.026602         0.000889         0.027202        0.000599\n",
      "8          0.025312         0.000758         0.026469        0.000952\n",
      "9          0.025335         0.000793         0.026402        0.000964\n",
      "0.973598\n"
     ]
    }
   ],
   "source": [
    "## xgboost package matrix - it works best on sparse matrix. \n",
    "\n",
    "churn_dmatrix = xgb.DMatrix( data  = X , \n",
    "                             label = y)\n",
    "\n",
    "params = {\"objective\":\"binary:logistic\", \"max_depth\":4}\n",
    "\n",
    "cv_results = xgb.cv(dtrain = churn_dmatrix, \n",
    "                   params = params,  ## params dictionary\n",
    "                   nfold = 4, ## cross validation metric \n",
    "                   num_boost_round = 10, ## trees to build\n",
    "                   metrics = \"error\", ## evaluation metrics\n",
    "                   as_pandas = True )\n",
    "\n",
    "print(cv_results)\n",
    "\n",
    "# Print the accuracy\n",
    "print(((1-cv_results[\"test-error-mean\"]).iloc[-1]))"
   ]
  },
  {
   "cell_type": "markdown",
   "metadata": {},
   "source": [
    "-- when to use xgboost?\n",
    "-- large # of dataset \n",
    "-- # feature < # sample \n",
    "-- categorical or numerical features or just numerical features. \n",
    "\n",
    "-- when not to use ? \n",
    "-- image recognition/computer vision/ nlp\n",
    "-- # feature > # sample \n",
    "-- xyz \n",
    "\n",
    "-- question \n",
    "XGBoost is a powerful library that scales very well to many samples and works for a variety of supervised learning problems. That said, as Sergey described in the video, you shouldn't always pick it as your default machine learning library when starting a new project, since there are some situations in which it is not the best option. In this exercise, your job is to consider the below examples and select the one which would be the best use of XGBoost.\n",
    "-- xyz predicting clicks and buys "
   ]
  },
  {
   "cell_type": "markdown",
   "metadata": {},
   "source": [
    "1. What are the accuracy metrics\n",
    "\n",
    "-- confusion matrix \n",
    "n*n matric where n is the class to be predicted. ACCURACY/ERROR/SENSITIVITY/SPECIFICITY/\n",
    "sensitivity or recall here will have to focus on one problem either sensitivity or specificity\n",
    "recall - of pos / all pos \n",
    "precision or pos/ all model predicted positive \n",
    "here it is case sensitive \n",
    "specificity proportion of negative values corretly identified. \n",
    "f1 score is the harmonic mean of recall and precision 2(p.r)/(p+r) Why F1 is HM and not AM(arithmatic mean) because HM punishes extreme values, say p = 0 and r = 1 then HM = 0, when precision is 0 meaning the model is useless. \n",
    "\n",
    "ROC = sensitivity vs (1-specificity) (1-specificity) is called false positive rate\n",
    "\n",
    "Will need examples here - like where which metric is needed, which case is it ?\n",
    "\n",
    "Log Loss - AUC ROC it does not take into account the model’s capability to predict higher probability for samples more likely to be positive. meaning probability positive can be 51 or 78 so log loss takes this difference into consideration. \n"
   ]
  },
  {
   "cell_type": "markdown",
   "metadata": {},
   "source": [
    "|parameter|Gradient boost|[XG boost](https://xgboost.readthedocs.io/en/latest/tutorials/model.html)|\n",
    "|---|---|---|\n",
    "|Parameter estimation|The gradient is used to minimize the loss function (error - difference between the actual values and predicted values). It is basically the partial derivative of the loss function, so it describes the steepness of our error function. |XGBoost stands for Extreme Gradient Boosting. XGBoost is a specific implementation of the Gradient Boosting method which delivers more accurate approximations by using the strengths of second order derivative of the loss function, L1 and L2 regularization and parallel computing.|\n",
    "|Algorithm|In each round of training, the weak learner is built and its predicted values are compared to the actual values. The distance or difference between the prediction and reality represents the error rate of our model.|XGBoost computes second-order gradients, i.e. second partial derivatives of the loss function, which provides more information about the direction of gradients and how to get to the minimum of our loss function.|\n",
    "|missing values|no|yes|\n",
    "|regularization|no|xgboost used a more regularized model formalization to control over-fitting, which gives it better performance.|"
   ]
  },
  {
   "cell_type": "markdown",
   "metadata": {},
   "source": [
    "|parameter|Adaboost|Gradient boost|\n",
    "|---|---|---|\n",
    "||Adaboost makes a stump and the AOS of the next tree is based on the current tree errors - so the tree next made are taking into consideration the errors of previous trees etc etc till there is perfect fit or that we say ki ok end it| In contrast Gradint boost makes a initial guess, for regression it is the mean value - so the first treee is actually a leaf|\n",
    "|stumps|single not more it is a stump thats all| but GB makes a tree of say 8 to 32 leaves usually|"
   ]
  },
  {
   "cell_type": "markdown",
   "metadata": {},
   "source": [
    "> Speed and performance and can run in parallel"
   ]
  },
  {
   "cell_type": "markdown",
   "metadata": {},
   "source": [
    "##### xgbRegressor"
   ]
  },
  {
   "cell_type": "code",
   "execution_count": 18,
   "metadata": {},
   "outputs": [
    {
     "data": {
      "text/plain": [
       "(331, 10)"
      ]
     },
     "metadata": {},
     "output_type": "display_data"
    },
    {
     "data": {
      "text/plain": [
       "(331,)"
      ]
     },
     "metadata": {},
     "output_type": "display_data"
    },
    {
     "data": {
      "text/plain": [
       "array([ 56.8048  , 100.20036 , 117.93829 , 117.93829 , 116.96602 ,\n",
       "       115.78438 , 110.49217 ,  56.8048  , 108.52645 ,  88.80094 ,\n",
       "       118.17051 ,  68.532295,  53.892273, 114.68697 ,  65.05115 ,\n",
       "       121.31471 ,  90.100876,  56.8048  ,  60.50561 ,  95.792305,\n",
       "        50.19146 , 151.91193 ,  92.06789 ,  58.895   ,  65.05115 ,\n",
       "       119.36126 , 107.01967 ,  56.8048  ,  88.80094 ,  56.8048  ,\n",
       "       107.01967 ,  88.80094 ,  64.83148 , 129.92712 ,  57.02446 ,\n",
       "        53.323647,  56.8048  ,  53.323647, 111.64564 ,  70.93317 ,\n",
       "        90.100876,  50.19146 ,  56.8048  , 101.33838 , 116.96602 ,\n",
       "        67.23235 ,  56.8048  ,  97.10546 ,  67.23235 , 146.41388 ,\n",
       "       151.00188 , 116.96602 , 151.00188 , 127.390594,  56.8048  ,\n",
       "       156.74522 ,  92.06789 , 100.4243  ,  56.8048  ,  92.50175 ,\n",
       "       101.33838 ,  55.194187, 125.00076 , 131.59715 , 126.37818 ,\n",
       "        56.8048  , 125.686935, 143.31319 ,  95.792305, 120.85364 ,\n",
       "       120.05889 , 105.57465 ,  56.8048  , 121.31471 , 168.08264 ,\n",
       "        56.8048  , 143.55373 ,  56.8048  , 143.31319 ,  95.792305,\n",
       "       102.80923 ,  64.83148 ,  65.05115 ,  64.83148 , 135.51416 ,\n",
       "        67.23235 ,  50.19146 ,  95.792305, 119.59156 , 133.21606 ,\n",
       "       124.129166,  92.06789 ,  65.05115 , 128.36545 ,  90.51009 ,\n",
       "        60.50561 , 120.205795, 116.29586 , 100.25427 , 115.78438 ,\n",
       "       130.80658 , 128.28183 , 116.96602 ,  64.83148 , 164.41853 ,\n",
       "        56.8048  , 143.55576 , 146.41388 , 133.21606 , 112.729744,\n",
       "       168.08264 ], dtype=float32)"
      ]
     },
     "execution_count": 18,
     "metadata": {},
     "output_type": "execute_result"
    }
   ],
   "source": [
    "from sklearn import datasets\n",
    "X, y = datasets.load_diabetes(return_X_y=True)\n",
    "x_train,x_test,  y_train , y_test = train_test_split(X, y, random_state = 40)\n",
    "\n",
    "\n",
    "cgb_cl = xgb.XGBRegressor( n_estimators = 10, seed = 123, objective = 'reg:squarederror')\n",
    "display(x_train.shape)\n",
    "display(y_train.shape)\n",
    "## sklearn classifier get ValueError: bad input shape\n",
    "## shape not matching\n",
    "cgb_cl.fit(x_train, y_train)\n",
    "cgb_cl.predict(x_test)"
   ]
  },
  {
   "cell_type": "code",
   "execution_count": 19,
   "metadata": {},
   "outputs": [
    {
     "name": "stdout",
     "output_type": "stream",
     "text": [
      "mean absolute error  73.67035726598792\n",
      "mean squared error  8959.978148219954\n",
      "R2 score  -0.35474359607908434\n"
     ]
    }
   ],
   "source": [
    "## regression metric\n",
    "from sklearn.metrics import mean_absolute_error, mean_squared_error,r2_score\n",
    "\n",
    "print(\"mean absolute error \",mean_absolute_error(y_test, cgb_cl.predict(x_test)))\n",
    "\n",
    "print(\"mean squared error \",mean_squared_error  (y_test, cgb_cl.predict(x_test)))\n",
    "\n",
    "print(\"R2 score \",                     r2_score (y_test, cgb_cl.predict(x_test)))"
   ]
  },
  {
   "cell_type": "markdown",
   "metadata": {},
   "source": [
    ">xgboost used CART Trees, where each leaf is a real value then there is threhold, <br>\n",
    ">boosting is an ensemble meta algorithm that is used to convert weak learners to strong learner<br>\n",
    "> [Multi-colieanrty removed](https://scikit-learn.org/stable/auto_examples/inspection/plot_permutation_importance_multicollinear.html#sphx-glr-auto-examples-inspection-plot-permutation-importance-multicollinear-py)<br>\n",
    ">"
   ]
  },
  {
   "cell_type": "code",
   "execution_count": 26,
   "metadata": {},
   "outputs": [
    {
     "data": {
      "text/plain": [
       "(426, 30)"
      ]
     },
     "metadata": {},
     "output_type": "display_data"
    },
    {
     "data": {
      "text/plain": [
       "(426,)"
      ]
     },
     "metadata": {},
     "output_type": "display_data"
    },
    {
     "name": "stdout",
     "output_type": "stream",
     "text": [
      "              precision    recall  f1-score   support\n",
      "\n",
      "           0       0.91      0.96      0.93        45\n",
      "           1       0.98      0.96      0.97        98\n",
      "\n",
      "    accuracy                           0.96       143\n",
      "   macro avg       0.95      0.96      0.95       143\n",
      "weighted avg       0.96      0.96      0.96       143\n",
      "\n"
     ]
    }
   ],
   "source": [
    "from sklearn.datasets import load_breast_cancer\n",
    "\n",
    "X, y  = load_breast_cancer(return_X_y = True)\n",
    "\n",
    "x_train,x_test,  y_train , y_test = train_test_split(X, y, random_state = 40)\n",
    "cgb_cl = xgb.XGBClassifier( n_estimators = 10, seed = 123, objective = \"binary:logistic\")\n",
    "display(x_train.shape)\n",
    "display(y_train.shape)\n",
    "## sklearn classifier get ValueError: bad input shape\n",
    "## shape not matching\n",
    "cgb_cl.fit(x_train, y_train)\n",
    "cgb_cl.predict(x_test)\n",
    "\n",
    "from sklearn.metrics import classification_report\n",
    "\n",
    "print(classification_report(y_test, cgb_cl.predict(x_test))) #  target_names=target_names"
   ]
  },
  {
   "cell_type": "markdown",
   "metadata": {},
   "source": [
    "When not to use xgboost?\n",
    ">image recognition, computer vision, NLP, "
   ]
  },
  {
   "cell_type": "markdown",
   "metadata": {},
   "source": [
    "xgboost objective function and base learners\n",
    "\n",
    "loss functions:\n",
    "binary:logistic  - when u want the probability\n",
    "reg:linear - for linear\n",
    "reg:logistic - when u want the output"
   ]
  },
  {
   "cell_type": "markdown",
   "metadata": {},
   "source": [
    "[when using CV for multiclass problem set an extra param ```num_class```](https://stackoverflow.com/questions/40116215/xgboost-sklearn-wrapper-value-0for-parameter-num-class-should-be-greater-equal-t)"
   ]
  }
 ],
 "metadata": {
  "kernelspec": {
   "display_name": "Python 3",
   "language": "python",
   "name": "python3"
  },
  "language_info": {
   "codemirror_mode": {
    "name": "ipython",
    "version": 3
   },
   "file_extension": ".py",
   "mimetype": "text/x-python",
   "name": "python",
   "nbconvert_exporter": "python",
   "pygments_lexer": "ipython3",
   "version": "3.7.3"
  }
 },
 "nbformat": 4,
 "nbformat_minor": 2
}
