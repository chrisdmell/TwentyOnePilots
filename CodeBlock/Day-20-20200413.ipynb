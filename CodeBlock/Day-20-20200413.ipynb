{
 "cells": [
  {
   "cell_type": "markdown",
   "metadata": {},
   "source": [
    "### LinkedIn Assessment Test Python <br>\n",
    "Questions Asked"
   ]
  },
  {
   "cell_type": "markdown",
   "metadata": {},
   "source": [
    "Python (Programming Language) Assessment (15 question)<br>\n",
    "Sorting, Fundamentals, Advanced Concepts, Data Structures, Object Oriented Programming"
   ]
  },
  {
   "cell_type": "markdown",
   "metadata": {},
   "source": [
    "1. Run time complexity of append \n",
    "2. Run time complexity of tuple assignment \n",
    "3. Complexity of packing unpacking a tuple\n",
    "4. What are attributes in python\n",
    "5. Why is ```sys``` module most commonly used\n",
    "6. What is mixin?\n",
    "7. Run time complexity of a loop?\n",
    "8. How numeric data woould be organized in binary tree search\n",
    "9. Run time complexity of adding an item to the stack and removing it\n",
    "10. What is abstract class?\n",
    "11. Why would you use a decorator?\n",
    "12. Difference geneartor and function python?\n",
    "13. What is the algorithmic paradigm of merge sort?\n",
    "14. Difference between sets and list\n",
    "15. Encapsulation OOP explained by ..."
   ]
  }
 ],
 "metadata": {
  "kernelspec": {
   "display_name": "Python 3",
   "language": "python",
   "name": "python3"
  },
  "language_info": {
   "codemirror_mode": {
    "name": "ipython",
    "version": 3
   },
   "file_extension": ".py",
   "mimetype": "text/x-python",
   "name": "python",
   "nbconvert_exporter": "python",
   "pygments_lexer": "ipython3",
   "version": "3.7.3"
  }
 },
 "nbformat": 4,
 "nbformat_minor": 2
}
