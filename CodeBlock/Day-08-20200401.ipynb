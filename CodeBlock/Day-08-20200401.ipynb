{
 "cells": [
  {
   "cell_type": "markdown",
   "metadata": {},
   "source": [
    "## Vectorization "
   ]
  },
  {
   "cell_type": "code",
   "execution_count": 1,
   "metadata": {},
   "outputs": [],
   "source": [
    "import numpy as np"
   ]
  },
  {
   "cell_type": "code",
   "execution_count": 2,
   "metadata": {},
   "outputs": [
    {
     "name": "stdout",
     "output_type": "stream",
     "text": [
      "[1 2 3 4]\n"
     ]
    },
    {
     "data": {
      "text/plain": [
       "116"
      ]
     },
     "execution_count": 2,
     "metadata": {},
     "output_type": "execute_result"
    }
   ],
   "source": [
    "a =  np.array([1,2,3,4])\n",
    "b =  np.array([2,34,6,7])\n",
    "print(a)\n",
    "\n",
    "np.dot(a,b)"
   ]
  },
  {
   "cell_type": "code",
   "execution_count": 3,
   "metadata": {},
   "outputs": [
    {
     "data": {
      "text/plain": [
       "array([[1.],\n",
       "       [1.],\n",
       "       [1.]])"
      ]
     },
     "execution_count": 3,
     "metadata": {},
     "output_type": "execute_result"
    }
   ],
   "source": [
    "n = 3\n",
    "np.exp(np.zeros((n,1)))\n",
    "#np.zeros\n"
   ]
  },
  {
   "cell_type": "code",
   "execution_count": 4,
   "metadata": {},
   "outputs": [],
   "source": [
    "a = np.arange(15).reshape(3,5)"
   ]
  },
  {
   "cell_type": "code",
   "execution_count": 5,
   "metadata": {},
   "outputs": [
    {
     "data": {
      "text/plain": [
       "15"
      ]
     },
     "execution_count": 5,
     "metadata": {},
     "output_type": "execute_result"
    }
   ],
   "source": [
    "a.size\n"
   ]
  },
  {
   "cell_type": "code",
   "execution_count": 6,
   "metadata": {},
   "outputs": [
    {
     "data": {
      "text/plain": [
       "2"
      ]
     },
     "execution_count": 6,
     "metadata": {},
     "output_type": "execute_result"
    }
   ],
   "source": [
    "a.ndim"
   ]
  },
  {
   "cell_type": "code",
   "execution_count": 7,
   "metadata": {},
   "outputs": [
    {
     "data": {
      "text/plain": [
       "'int32'"
      ]
     },
     "execution_count": 7,
     "metadata": {},
     "output_type": "execute_result"
    }
   ],
   "source": [
    "a.dtype.name"
   ]
  },
  {
   "cell_type": "code",
   "execution_count": 8,
   "metadata": {},
   "outputs": [
    {
     "data": {
      "text/plain": [
       "array([[0., 0., 0., 0.]])"
      ]
     },
     "execution_count": 8,
     "metadata": {},
     "output_type": "execute_result"
    }
   ],
   "source": [
    "np.zeros((1,4))"
   ]
  },
  {
   "cell_type": "code",
   "execution_count": 9,
   "metadata": {},
   "outputs": [],
   "source": [
    "cal_ = np.array([[56,0,4.4,68],[1.2,104,52,8],[1.8,135,99,0.9]])"
   ]
  },
  {
   "cell_type": "code",
   "execution_count": 10,
   "metadata": {},
   "outputs": [
    {
     "data": {
      "text/plain": [
       "array([ 59. , 239. , 155.4,  76.9])"
      ]
     },
     "execution_count": 10,
     "metadata": {},
     "output_type": "execute_result"
    }
   ],
   "source": [
    "call_total = cal_.sum(axis= 0)\n",
    "call_total"
   ]
  },
  {
   "cell_type": "code",
   "execution_count": 11,
   "metadata": {},
   "outputs": [],
   "source": [
    "percentage = 100 * cal_ / call_total.reshape(1,4)"
   ]
  },
  {
   "cell_type": "code",
   "execution_count": 12,
   "metadata": {
    "scrolled": true
   },
   "outputs": [
    {
     "data": {
      "text/plain": [
       "array([[94.91525424,  0.        ,  2.83140283, 88.42652796],\n",
       "       [ 2.03389831, 43.51464435, 33.46203346, 10.40312094],\n",
       "       [ 3.05084746, 56.48535565, 63.70656371,  1.17035111]])"
      ]
     },
     "execution_count": 12,
     "metadata": {},
     "output_type": "execute_result"
    }
   ],
   "source": [
    "percentage"
   ]
  },
  {
   "cell_type": "code",
   "execution_count": 13,
   "metadata": {},
   "outputs": [
    {
     "name": "stdout",
     "output_type": "stream",
     "text": [
      "0.9438520011426543\n",
      "[0.943852]\n",
      "aa transpose  [0.62531803 0.943852   0.72400217 0.93758158 0.32157256]\n",
      "aa  [0.62531803 0.943852   0.72400217 0.93758158 0.32157256]\n"
     ]
    },
    {
     "data": {
      "text/plain": [
       "array([[0.62531803],\n",
       "       [0.943852  ],\n",
       "       [0.72400217],\n",
       "       [0.93758158],\n",
       "       [0.32157256]])"
      ]
     },
     "execution_count": 13,
     "metadata": {},
     "output_type": "execute_result"
    }
   ],
   "source": [
    "aa = np.random.rand(5)\n",
    "print(aa[1])\n",
    "print(aa[[1]])\n",
    "print(\"aa transpose \",aa.T)\n",
    "print(\"aa \",aa) ## these are rank 1 arrays\n",
    "aa.shape\n",
    "\n",
    "## rank 1 arrays are cause problems \n",
    "## so reshape\n",
    "aa.reshape(5,1)"
   ]
  },
  {
   "cell_type": "code",
   "execution_count": 14,
   "metadata": {},
   "outputs": [
    {
     "name": "stdout",
     "output_type": "stream",
     "text": [
      "aa_ transpose  [[0.47452309 0.67353066 0.37613143 0.93691854 0.70195747]]\n",
      "aa_  [[0.47452309]\n",
      " [0.67353066]\n",
      " [0.37613143]\n",
      " [0.93691854]\n",
      " [0.70195747]]\n"
     ]
    },
    {
     "data": {
      "text/plain": [
       "(5, 1)"
      ]
     },
     "execution_count": 14,
     "metadata": {},
     "output_type": "execute_result"
    }
   ],
   "source": [
    "aa_ = np.random.rand(5,1) ## use this notation (5,1 )\n",
    "\n",
    "print(\"aa_ transpose \", aa_.T) ## column vector\n",
    "print(\"aa_ \", aa_)\n",
    "aa_.shape"
   ]
  },
  {
   "cell_type": "code",
   "execution_count": 15,
   "metadata": {},
   "outputs": [
    {
     "name": "stdout",
     "output_type": "stream",
     "text": [
      "A vector cannot be written like that\n"
     ]
    }
   ],
   "source": [
    "np.array([1,2,3,3])\n",
    "\n",
    "np.array([[1,1,1,1],[1232,33,44,44]])\n",
    "\n",
    "np.array([(1,1,1,1),(1232,33,44,44)])\n",
    "\n",
    "\n",
    "\n",
    "try:\n",
    "    np.array(1,2,3) ## gives an error\n",
    "except ValueError : \n",
    "    print(\"A vector cannot be written like that\")\n",
    "    \n"
   ]
  },
  {
   "cell_type": "code",
   "execution_count": 16,
   "metadata": {},
   "outputs": [
    {
     "data": {
      "text/plain": [
       "array([0, 1, 2, 3, 4, 5])"
      ]
     },
     "execution_count": 16,
     "metadata": {},
     "output_type": "execute_result"
    }
   ],
   "source": [
    "one_ = np.ones((2,3,4))\n",
    "one_.ndim\n",
    "## 3 dimension array\n",
    "\n",
    "np.empty((2,3))\n",
    "\n",
    "np.arange(10,30,5) ## array of numbers with 5 spacing\n",
    "\n",
    "np.arange(6)\n"
   ]
  },
  {
   "cell_type": "code",
   "execution_count": 17,
   "metadata": {},
   "outputs": [
    {
     "name": "stdout",
     "output_type": "stream",
     "text": [
      "the # values should be ten not fifteen.\n"
     ]
    }
   ],
   "source": [
    "np.arange(10).reshape(5,2)\n",
    "\n",
    "try:\n",
    "    np.arange(10).reshape(5,3)\n",
    "except ValueError:\n",
    "    print(\"the # values should be ten not fifteen.\")"
   ]
  },
  {
   "cell_type": "code",
   "execution_count": 18,
   "metadata": {},
   "outputs": [
    {
     "name": "stdout",
     "output_type": "stream",
     "text": [
      "floor command result  [[0. 6. 4. 4.]\n",
      " [1. 5. 6. 4.]\n",
      " [9. 7. 7. 5.]]\n",
      "RAVEL outputs flattened version of the rows.  [0. 6. 4. 4. 1. 5. 6. 4. 9. 7. 7. 5.]\n"
     ]
    }
   ],
   "source": [
    "floor_ = np.floor((10*np.random.random((3,4))))\n",
    "print(\"floor command result \", floor_)\n",
    "floor_.shape\n",
    "\n",
    "ravel_ = floor_.ravel()  ## faltten an array\n",
    "ravel_.shape\n",
    "print(\"RAVEL outputs flattened version of the rows. \",ravel_)"
   ]
  },
  {
   "cell_type": "code",
   "execution_count": 19,
   "metadata": {},
   "outputs": [
    {
     "name": "stdout",
     "output_type": "stream",
     "text": [
      "a matrix \n",
      " [[ 0  1]\n",
      " [ 2  3]\n",
      " [ 4  5]\n",
      " [ 6  7]\n",
      " [ 8  9]\n",
      " [10 11]] \n",
      "\n",
      "its transpose \n",
      " [[ 0  2  4  6  8 10]\n",
      " [ 1  3  5  7  9 11]]\n"
     ]
    }
   ],
   "source": [
    "transpose_ = np.arange(12).reshape(6,2)\n",
    "print(\"a matrix \\n\", transpose_, \"\\n\")\n",
    "T_transpose = transpose_.T\n",
    "print(\"its transpose \\n\", T_transpose)"
   ]
  },
  {
   "cell_type": "code",
   "execution_count": 20,
   "metadata": {
    "scrolled": true
   },
   "outputs": [
    {
     "name": "stdout",
     "output_type": "stream",
     "text": [
      "[[ 0  1  2]\n",
      " [ 3  4  5]\n",
      " [ 6  7  8]\n",
      " [ 9 10 11]]\n",
      "[[ 0  1]\n",
      " [ 2  3]\n",
      " [ 4  5]\n",
      " [ 6  7]\n",
      " [ 8  9]\n",
      " [10 11]]\n",
      "None\n"
     ]
    },
    {
     "data": {
      "text/plain": [
       "array([[ 0,  1,  2,  3],\n",
       "       [ 4,  5,  6,  7],\n",
       "       [ 8,  9, 10, 11]])"
      ]
     },
     "execution_count": 20,
     "metadata": {},
     "output_type": "execute_result"
    }
   ],
   "source": [
    "resize_ = np.arange(12).reshape(4,3)\n",
    "\n",
    "print(resize_)\n",
    "print(resize_.reshape(6,2)) ## to assign to a new variable\n",
    "\n",
    "print(resize_.resize((6,2)))  ## modifies the array permanantly\n",
    "resize_\n",
    "\n",
    "\n",
    "resize_.reshape(3,-1) ## when -1 the other dimention is automatically calculated. "
   ]
  },
  {
   "cell_type": "code",
   "execution_count": 21,
   "metadata": {},
   "outputs": [
    {
     "name": "stdout",
     "output_type": "stream",
     "text": [
      "my a matric \n",
      " [[ 0  1  2  3]\n",
      " [ 4  5  6  7]\n",
      " [ 8  9 10 11]] \n",
      "\n",
      "Multiplication of matrix \n",
      " [[  0  10  20  30]\n",
      " [ 40  50  60  70]\n",
      " [ 80  90 100 110]] \n",
      "\n",
      "b \n",
      " [[ 0  1  2  3]\n",
      " [ 4  5  6  7]\n",
      " [ 8  9 10 11]] \n",
      "\n",
      "matrix multiplication \n",
      " [[  0   1   4   9]\n",
      " [ 16  25  36  49]\n",
      " [ 64  81 100 121]] \n",
      "\n",
      "Broadcasting \n",
      " [[14]\n",
      " [38]\n",
      " [62]] \n",
      "\n"
     ]
    },
    {
     "data": {
      "text/plain": [
       "array([[ 42,  48,  54],\n",
       "       [114, 136, 158],\n",
       "       [186, 224, 262]])"
      ]
     },
     "execution_count": 21,
     "metadata": {},
     "output_type": "execute_result"
    }
   ],
   "source": [
    "a = np.arange(12).reshape(3,4)\n",
    "print(\"my a matric \\n\", a, \"\\n\")\n",
    "\n",
    "##\n",
    "print(\"Multiplication of matrix \\n\",10*a, \"\\n\")\n",
    "\n",
    "b = np.arange(12).reshape(3,4)\n",
    "print(\"b \\n\",b, \"\\n\")\n",
    "print(\"matrix multiplication \\n\",a*b, \"\\n\") ## matrix multiplication\n",
    "b = np.arange(4).reshape(4,1)\n",
    "print(\"Broadcasting \\n\",a@b, \"\\n\") ## matrix multiplication\n",
    "\n",
    "b = np.arange(12).reshape(4,3)\n",
    "a@b\n",
    "\n"
   ]
  },
  {
   "cell_type": "markdown",
   "metadata": {},
   "source": [
    "__Next Steps__ <br>\n",
    "[Broadcasting NUMPY](https://docs.scipy.org/doc/numpy-1.15.0/user/basics.broadcasting.html) <br>\n",
    "[Quick Tutorial NUMPY](https://docs.scipy.org/doc/numpy/user/quickstart.html)\n"
   ]
  }
 ],
 "metadata": {
  "kernelspec": {
   "display_name": "Python 3",
   "language": "python",
   "name": "python3"
  },
  "language_info": {
   "codemirror_mode": {
    "name": "ipython",
    "version": 3
   },
   "file_extension": ".py",
   "mimetype": "text/x-python",
   "name": "python",
   "nbconvert_exporter": "python",
   "pygments_lexer": "ipython3",
   "version": "3.7.3"
  }
 },
 "nbformat": 4,
 "nbformat_minor": 2
}
