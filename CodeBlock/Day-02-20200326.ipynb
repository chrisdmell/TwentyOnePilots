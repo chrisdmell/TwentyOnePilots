{
 "cells": [
  {
   "cell_type": "markdown",
   "metadata": {},
   "source": [
    "## Market Basket Analysis\n",
    "> Days two of lockdown, 19 more to go. [Data](http://archive.ics.uci.edu/ml/machine-learning-databases/00352/)"
   ]
  },
  {
   "cell_type": "code",
   "execution_count": 57,
   "metadata": {},
   "outputs": [],
   "source": [
    "import pandas as pd\n",
    "import wget\n",
    "from apyori import apriori"
   ]
  },
  {
   "cell_type": "code",
   "execution_count": 6,
   "metadata": {},
   "outputs": [],
   "source": [
    "link_to_ratail_data = \"http://archive.ics.uci.edu/ml/machine-learning-databases/00352/Online%20Retail.xlsx\""
   ]
  },
  {
   "cell_type": "code",
   "execution_count": 7,
   "metadata": {},
   "outputs": [
    {
     "data": {
      "text/html": [
       "<div>\n",
       "<style scoped>\n",
       "    .dataframe tbody tr th:only-of-type {\n",
       "        vertical-align: middle;\n",
       "    }\n",
       "\n",
       "    .dataframe tbody tr th {\n",
       "        vertical-align: top;\n",
       "    }\n",
       "\n",
       "    .dataframe thead th {\n",
       "        text-align: right;\n",
       "    }\n",
       "</style>\n",
       "<table border=\"1\" class=\"dataframe\">\n",
       "  <thead>\n",
       "    <tr style=\"text-align: right;\">\n",
       "      <th></th>\n",
       "      <th>InvoiceNo</th>\n",
       "      <th>StockCode</th>\n",
       "      <th>Description</th>\n",
       "      <th>Quantity</th>\n",
       "      <th>InvoiceDate</th>\n",
       "      <th>UnitPrice</th>\n",
       "      <th>CustomerID</th>\n",
       "      <th>Country</th>\n",
       "    </tr>\n",
       "  </thead>\n",
       "  <tbody>\n",
       "    <tr>\n",
       "      <th>0</th>\n",
       "      <td>536365</td>\n",
       "      <td>85123A</td>\n",
       "      <td>WHITE HANGING HEART T-LIGHT HOLDER</td>\n",
       "      <td>6</td>\n",
       "      <td>2010-12-01 08:26:00</td>\n",
       "      <td>2.55</td>\n",
       "      <td>17850.0</td>\n",
       "      <td>United Kingdom</td>\n",
       "    </tr>\n",
       "    <tr>\n",
       "      <th>1</th>\n",
       "      <td>536365</td>\n",
       "      <td>71053</td>\n",
       "      <td>WHITE METAL LANTERN</td>\n",
       "      <td>6</td>\n",
       "      <td>2010-12-01 08:26:00</td>\n",
       "      <td>3.39</td>\n",
       "      <td>17850.0</td>\n",
       "      <td>United Kingdom</td>\n",
       "    </tr>\n",
       "    <tr>\n",
       "      <th>2</th>\n",
       "      <td>536365</td>\n",
       "      <td>84406B</td>\n",
       "      <td>CREAM CUPID HEARTS COAT HANGER</td>\n",
       "      <td>8</td>\n",
       "      <td>2010-12-01 08:26:00</td>\n",
       "      <td>2.75</td>\n",
       "      <td>17850.0</td>\n",
       "      <td>United Kingdom</td>\n",
       "    </tr>\n",
       "    <tr>\n",
       "      <th>3</th>\n",
       "      <td>536365</td>\n",
       "      <td>84029G</td>\n",
       "      <td>KNITTED UNION FLAG HOT WATER BOTTLE</td>\n",
       "      <td>6</td>\n",
       "      <td>2010-12-01 08:26:00</td>\n",
       "      <td>3.39</td>\n",
       "      <td>17850.0</td>\n",
       "      <td>United Kingdom</td>\n",
       "    </tr>\n",
       "    <tr>\n",
       "      <th>4</th>\n",
       "      <td>536365</td>\n",
       "      <td>84029E</td>\n",
       "      <td>RED WOOLLY HOTTIE WHITE HEART.</td>\n",
       "      <td>6</td>\n",
       "      <td>2010-12-01 08:26:00</td>\n",
       "      <td>3.39</td>\n",
       "      <td>17850.0</td>\n",
       "      <td>United Kingdom</td>\n",
       "    </tr>\n",
       "  </tbody>\n",
       "</table>\n",
       "</div>"
      ],
      "text/plain": [
       "  InvoiceNo StockCode                          Description  Quantity  \\\n",
       "0    536365    85123A   WHITE HANGING HEART T-LIGHT HOLDER         6   \n",
       "1    536365     71053                  WHITE METAL LANTERN         6   \n",
       "2    536365    84406B       CREAM CUPID HEARTS COAT HANGER         8   \n",
       "3    536365    84029G  KNITTED UNION FLAG HOT WATER BOTTLE         6   \n",
       "4    536365    84029E       RED WOOLLY HOTTIE WHITE HEART.         6   \n",
       "\n",
       "          InvoiceDate  UnitPrice  CustomerID         Country  \n",
       "0 2010-12-01 08:26:00       2.55     17850.0  United Kingdom  \n",
       "1 2010-12-01 08:26:00       3.39     17850.0  United Kingdom  \n",
       "2 2010-12-01 08:26:00       2.75     17850.0  United Kingdom  \n",
       "3 2010-12-01 08:26:00       3.39     17850.0  United Kingdom  \n",
       "4 2010-12-01 08:26:00       3.39     17850.0  United Kingdom  "
      ]
     },
     "execution_count": 7,
     "metadata": {},
     "output_type": "execute_result"
    }
   ],
   "source": [
    "df = pd.read_excel(link_to_ratail_data)\n",
    "df.head()"
   ]
  },
  {
   "cell_type": "markdown",
   "metadata": {},
   "source": [
    " In simplest terms, MBA shows what combinations of products most frequently occur together in orders. <br>\n",
    " <br>\n",
    " <br>\n",
    " $ support = \\frac {A+B} {total}$ <br>\n",
    " $ confidence = \\frac {A+B} {A}$ <br>\n",
    " $ lift = \\frac {\\frac{A+B}{A}} {\\frac{B}{Total}}$ <br>\n",
    "<br>\n",
    "<br>\n",
    " Computer=> Anti−virusSoftware and   Support=20%,confidence=60%\n",
    "1. 20% transaction show Anti-virus software is bought with purchase of a Computer\n",
    "2. 60% of customers who purchase Anti-virus software is bought with purchase of a Computer\n",
    "\n",
    "A collection of items purchased by a customer is an itemset. The set of items on the left-hand side (sandwich, cookies in the example above) is the antecedent of the rule, while the one to the right (drink) is the consequent."
   ]
  },
  {
   "cell_type": "markdown",
   "metadata": {},
   "source": [
    "Practical Applications of [Market Basket Analysis](https://webfocusinfocenter.informationbuilders.com/wfappent/TLs/TL_rstat/source/marketbasket49.htm)\n",
    "\n",
    "When one hears Market Basket Analysis, one thinks of shopping carts and supermarket shoppers. It is important to realize that there are many other areas in which Market Basket Analysis can be applied. An example of Market Basket Analysis for a majority of Internet users is a list of potentially interesting products for Amazon. Amazon informs the customer that people who bought the item being purchased by them, also reviewed or bought another list of items. A list of applications of Market Basket Analysis in various industries is listed below:\n",
    "\n",
    "Retail. In Retail, Market Basket Analysis can help determine what items are purchased together, purchased sequentially, and purchased by season. This can assist retailers to determine product placement and promotion optimization (for instance, combining product incentives). Does it make sense to sell soda and chips or soda and crackers?\n",
    "Telecommunications. In Telecommunications, where high churn rates continue to be a growing concern, Market Basket Analysis can be used to determine what services are being utilized and what packages customers are purchasing. They can use that knowledge to direct marketing efforts at customers who are more likely to follow the same path.\n",
    "For instance, Telecommunications these days is also offering TV and Internet. Creating bundles for purchases can be determined from an analysis of what customers purchase, thereby giving the company an idea of how to price the bundles. This analysis might also lead to determining the capacity requirements.\n",
    "\n",
    "Banks. In Financial (banking for instance), Market Basket Analysis can be used to analyze credit card purchases of customers to build profiles for fraud detection purposes and cross-selling opportunities.\n",
    "Insurance. In Insurance, Market Basket Analysis can be used to build profiles to detect medical insurance claim fraud. By building profiles of claims, you are able to then use the profiles to determine if more than 1 claim belongs to a particular claimee within a specified period of time.\n",
    "Medical. In Healthcare or Medical, Market Basket Analysis can be used for comorbid conditions and symptom analysis, with which a profile of illness can be better identified. It can also be used to reveal biologically relevant associations between different genes or between environmental effects and gene expression.\n",
    "\n",
    "We try to achieve this using [python](https://intellipaat.com/blog/data-science-apriori-algorithm/)."
   ]
  },
  {
   "cell_type": "code",
   "execution_count": 10,
   "metadata": {},
   "outputs": [
    {
     "name": "stdout",
     "output_type": "stream",
     "text": [
      "Collecting apyori\n",
      "  Downloading https://files.pythonhosted.org/packages/5e/62/5ffde5c473ea4b033490617ec5caa80d59804875ad3c3c57c0976533a21a/apyori-1.1.2.tar.gz\n",
      "Building wheels for collected packages: apyori\n",
      "  Building wheel for apyori (setup.py): started\n",
      "  Building wheel for apyori (setup.py): finished with status 'done'\n",
      "  Stored in directory: C:\\Users\\chris.aloysious\\AppData\\Local\\pip\\Cache\\wheels\\5d\\92\\bb\\474bbadbc8c0062b9eb168f69982a0443263f8ab1711a8cad0\n",
      "Successfully built apyori\n",
      "Installing collected packages: apyori\n",
      "Successfully installed apyori-1.1.2\n",
      "Note: you may need to restart the kernel to use updated packages.\n"
     ]
    }
   ],
   "source": [
    "pip install apyori"
   ]
  },
  {
   "cell_type": "code",
   "execution_count": 58,
   "metadata": {},
   "outputs": [
    {
     "data": {
      "text/plain": [
       "(541909, 8)"
      ]
     },
     "metadata": {},
     "output_type": "display_data"
    },
    {
     "data": {
      "text/html": [
       "<div>\n",
       "<style scoped>\n",
       "    .dataframe tbody tr th:only-of-type {\n",
       "        vertical-align: middle;\n",
       "    }\n",
       "\n",
       "    .dataframe tbody tr th {\n",
       "        vertical-align: top;\n",
       "    }\n",
       "\n",
       "    .dataframe thead th {\n",
       "        text-align: right;\n",
       "    }\n",
       "</style>\n",
       "<table border=\"1\" class=\"dataframe\">\n",
       "  <thead>\n",
       "    <tr style=\"text-align: right;\">\n",
       "      <th></th>\n",
       "      <th>InvoiceNo</th>\n",
       "      <th>StockCode</th>\n",
       "      <th>Description</th>\n",
       "      <th>Quantity</th>\n",
       "      <th>InvoiceDate</th>\n",
       "      <th>UnitPrice</th>\n",
       "      <th>CustomerID</th>\n",
       "      <th>Country</th>\n",
       "    </tr>\n",
       "  </thead>\n",
       "  <tbody>\n",
       "    <tr>\n",
       "      <th>0</th>\n",
       "      <td>536365</td>\n",
       "      <td>85123A</td>\n",
       "      <td>WHITE HANGING HEART T-LIGHT HOLDER</td>\n",
       "      <td>6</td>\n",
       "      <td>2010-12-01 08:26:00</td>\n",
       "      <td>2.55</td>\n",
       "      <td>17850.0</td>\n",
       "      <td>United Kingdom</td>\n",
       "    </tr>\n",
       "    <tr>\n",
       "      <th>1</th>\n",
       "      <td>536365</td>\n",
       "      <td>71053</td>\n",
       "      <td>WHITE METAL LANTERN</td>\n",
       "      <td>6</td>\n",
       "      <td>2010-12-01 08:26:00</td>\n",
       "      <td>3.39</td>\n",
       "      <td>17850.0</td>\n",
       "      <td>United Kingdom</td>\n",
       "    </tr>\n",
       "    <tr>\n",
       "      <th>2</th>\n",
       "      <td>536365</td>\n",
       "      <td>84406B</td>\n",
       "      <td>CREAM CUPID HEARTS COAT HANGER</td>\n",
       "      <td>8</td>\n",
       "      <td>2010-12-01 08:26:00</td>\n",
       "      <td>2.75</td>\n",
       "      <td>17850.0</td>\n",
       "      <td>United Kingdom</td>\n",
       "    </tr>\n",
       "    <tr>\n",
       "      <th>3</th>\n",
       "      <td>536365</td>\n",
       "      <td>84029G</td>\n",
       "      <td>KNITTED UNION FLAG HOT WATER BOTTLE</td>\n",
       "      <td>6</td>\n",
       "      <td>2010-12-01 08:26:00</td>\n",
       "      <td>3.39</td>\n",
       "      <td>17850.0</td>\n",
       "      <td>United Kingdom</td>\n",
       "    </tr>\n",
       "    <tr>\n",
       "      <th>4</th>\n",
       "      <td>536365</td>\n",
       "      <td>84029E</td>\n",
       "      <td>RED WOOLLY HOTTIE WHITE HEART.</td>\n",
       "      <td>6</td>\n",
       "      <td>2010-12-01 08:26:00</td>\n",
       "      <td>3.39</td>\n",
       "      <td>17850.0</td>\n",
       "      <td>United Kingdom</td>\n",
       "    </tr>\n",
       "  </tbody>\n",
       "</table>\n",
       "</div>"
      ],
      "text/plain": [
       "  InvoiceNo StockCode                          Description  Quantity  \\\n",
       "0    536365    85123A   WHITE HANGING HEART T-LIGHT HOLDER         6   \n",
       "1    536365     71053                  WHITE METAL LANTERN         6   \n",
       "2    536365    84406B       CREAM CUPID HEARTS COAT HANGER         8   \n",
       "3    536365    84029G  KNITTED UNION FLAG HOT WATER BOTTLE         6   \n",
       "4    536365    84029E       RED WOOLLY HOTTIE WHITE HEART.         6   \n",
       "\n",
       "          InvoiceDate  UnitPrice  CustomerID         Country  \n",
       "0 2010-12-01 08:26:00       2.55     17850.0  United Kingdom  \n",
       "1 2010-12-01 08:26:00       3.39     17850.0  United Kingdom  \n",
       "2 2010-12-01 08:26:00       2.75     17850.0  United Kingdom  \n",
       "3 2010-12-01 08:26:00       3.39     17850.0  United Kingdom  \n",
       "4 2010-12-01 08:26:00       3.39     17850.0  United Kingdom  "
      ]
     },
     "metadata": {},
     "output_type": "display_data"
    }
   ],
   "source": [
    "display(df.shape)\n",
    "display(df.head())"
   ]
  },
  {
   "cell_type": "code",
   "execution_count": 22,
   "metadata": {
    "scrolled": true
   },
   "outputs": [
    {
     "data": {
      "text/html": [
       "<div>\n",
       "<style scoped>\n",
       "    .dataframe tbody tr th:only-of-type {\n",
       "        vertical-align: middle;\n",
       "    }\n",
       "\n",
       "    .dataframe tbody tr th {\n",
       "        vertical-align: top;\n",
       "    }\n",
       "\n",
       "    .dataframe thead th {\n",
       "        text-align: right;\n",
       "    }\n",
       "</style>\n",
       "<table border=\"1\" class=\"dataframe\">\n",
       "  <thead>\n",
       "    <tr style=\"text-align: right;\">\n",
       "      <th></th>\n",
       "      <th>InvoiceNo</th>\n",
       "      <th>Description</th>\n",
       "    </tr>\n",
       "  </thead>\n",
       "  <tbody>\n",
       "    <tr>\n",
       "      <th>0</th>\n",
       "      <td>536365</td>\n",
       "      <td>WHITE HANGING HEART T-LIGHT HOLDER          ...</td>\n",
       "    </tr>\n",
       "    <tr>\n",
       "      <th>1</th>\n",
       "      <td>536366</td>\n",
       "      <td>HAND WARMER UNION JACK HAND WARMER RED POL...</td>\n",
       "    </tr>\n",
       "    <tr>\n",
       "      <th>2</th>\n",
       "      <td>536367</td>\n",
       "      <td>ASSORTED COLOUR BIRD ORNAMENT         PO...</td>\n",
       "    </tr>\n",
       "    <tr>\n",
       "      <th>3</th>\n",
       "      <td>536368</td>\n",
       "      <td>JAM MAKING SET WITH JARS    RED COAT RA...</td>\n",
       "    </tr>\n",
       "    <tr>\n",
       "      <th>4</th>\n",
       "      <td>536369</td>\n",
       "      <td>BATH BUILDING BLOCK WORD</td>\n",
       "    </tr>\n",
       "  </tbody>\n",
       "</table>\n",
       "</div>"
      ],
      "text/plain": [
       "  InvoiceNo                                        Description\n",
       "0    536365    WHITE HANGING HEART T-LIGHT HOLDER          ...\n",
       "1    536366      HAND WARMER UNION JACK HAND WARMER RED POL...\n",
       "2    536367        ASSORTED COLOUR BIRD ORNAMENT         PO...\n",
       "3    536368         JAM MAKING SET WITH JARS    RED COAT RA...\n",
       "4    536369                           BATH BUILDING BLOCK WORD"
      ]
     },
     "metadata": {},
     "output_type": "display_data"
    }
   ],
   "source": [
    "df_txns = df.groupby(['InvoiceNo'])['Description'].apply(lambda text: ''.join(text.to_string(index=False))).str.replace('(\\\\n)', '').reset_index()\n",
    "display(df_txns.head())"
   ]
  },
  {
   "cell_type": "code",
   "execution_count": 23,
   "metadata": {},
   "outputs": [
    {
     "data": {
      "text/plain": [
       "InvoiceNo\n",
       "536365     [WHITE HANGING HEART T-LIGHT HOLDER, WHITE MET...\n",
       "536366     [HAND WARMER UNION JACK, HAND WARMER RED POLKA...\n",
       "536367     [ASSORTED COLOUR BIRD ORNAMENT, POPPY'S PLAYHO...\n",
       "536368     [JAM MAKING SET WITH JARS, RED COAT RACK PARIS...\n",
       "536369                            [BATH BUILDING BLOCK WORD]\n",
       "536370     [ALARM CLOCK BAKELIKE PINK, ALARM CLOCK BAKELI...\n",
       "536371                     [PAPER CHAIN KIT 50'S CHRISTMAS ]\n",
       "536372     [HAND WARMER RED POLKA DOT, HAND WARMER UNION ...\n",
       "536373     [WHITE HANGING HEART T-LIGHT HOLDER, WHITE MET...\n",
       "536374                          [VICTORIAN SEWING BOX LARGE]\n",
       "536375     [WHITE HANGING HEART T-LIGHT HOLDER, WHITE MET...\n",
       "536376     [HOT WATER BOTTLE TEA AND SYMPATHY, RED HANGIN...\n",
       "536377     [HAND WARMER RED POLKA DOT, HAND WARMER UNION ...\n",
       "536378     [JUMBO BAG PINK POLKADOT, JUMBO  BAG BAROQUE B...\n",
       "536380                              [JAM MAKING SET PRINTED]\n",
       "536381     [RETROSPOT TEA SET CERAMIC 11 PC , GIRLY PINK ...\n",
       "536382     [INFLATABLE POLITICAL GLOBE , VINTAGE SNAKES &...\n",
       "536384     [WOOD BLACK BOARD ANT WHITE FINISH, COLOUR GLA...\n",
       "536385     [SET 3 WICKER OVAL BASKETS W LIDS, JAM MAKING ...\n",
       "536386     [WHITE WIRE EGG HOLDER, JUMBO  BAG BAROQUE BLA...\n",
       "536387     [CHILLI LIGHTS, LIGHT GARLAND BUTTERFILES PINK...\n",
       "536388     [HOME BUILDING BLOCK WORD, LOVE BUILDING BLOCK...\n",
       "536389     [CHRISTMAS LIGHTS 10 REINDEER, VINTAGE UNION J...\n",
       "536390     [CHRISTMAS LIGHTS 10 REINDEER, JAM MAKING SET ...\n",
       "536392     [3 STRIPEY MICE FELTCRAFT, SET OF 6 SOLDIER SK...\n",
       "536393                                      [RETROSPOT LAMP]\n",
       "536394     [FANCY FONT BIRTHDAY CARD, , HAND WARMER UNION...\n",
       "536395     [BLACK HEART CARD HOLDER, ASSORTED COLOUR BIRD...\n",
       "536396     [WHITE HANGING HEART T-LIGHT HOLDER, WHITE MET...\n",
       "536397     [SET OF 3 BLACK FLYING DUCKS, SET OF 3 COLOURE...\n",
       "                                 ...                        \n",
       "C581128                            [JUMBO BAG RED RETROSPOT]\n",
       "C581145    [Manual, ZINC FOLKART SLEIGH BELLS, VINTAGE RE...\n",
       "C581148    [CERAMIC BOWL WITH STRAWBERRY DESIGN, BISCUIT ...\n",
       "C581162                       [ANTIQUE SILVER T-LIGHT GLASS]\n",
       "C581178    [TOADSTOOL BEDSIDE LIGHT , VINTAGE DOILY DELUX...\n",
       "C581228    [REGENCY CAKESTAND 3 TIER, WHITE ROCKING HORSE...\n",
       "C581229    [JUMBO BAG RED RETROSPOT, JUNGLE POPSICLES ICE...\n",
       "C581235    [SET OF TEA COFFEE SUGAR TINS PANTRY, ROUND CA...\n",
       "C581305    [MINT KITCHEN SCALES, WOOD BLACK BOARD ANT WHI...\n",
       "C581316    [GLASS  SONGBIRD STORAGE JAR, RED RETROSPOT SU...\n",
       "C581322    [SET OF 20 VINTAGE CHRISTMAS NAPKINS, RECIPE B...\n",
       "C581323                           [RETROSPOT LARGE MILK JUG]\n",
       "C581330       [WRAP CHRISTMAS VILLAGE, WRAP 50'S  CHRISTMAS]\n",
       "C581384                           [AFGHAN SLIPPER SOCK PAIR]\n",
       "C581390    [RED HANGING HEART T-LIGHT HOLDER, RED SPOT PA...\n",
       "C581393                     [LIGHT GARLAND BUTTERFILES PINK]\n",
       "C581409    [ANTIQUE SILVER T-LIGHT GLASS, 36 PENCILS TUBE...\n",
       "C581460                 [POPCORN HOLDER, PIZZA PLATE IN BOX]\n",
       "C581462    [HOUSE SHAPE PENCIL SHARPENER, ASSORTED TUTTI ...\n",
       "C581463                [15CM CHRISTMAS GLASS BALL 20 LIGHTS]\n",
       "C581464    [DOLLY CABINET 3 DRAWERS , COLOURED GLASS STAR...\n",
       "C581465    [HENRIETTA HEN MUG , 3 HOOK PHOTO SHELF ANTIQU...\n",
       "C581466    [3 TIER CAKE TIN RED AND CREAM, SET OF 3 CAKE ...\n",
       "C581468    [SMALL GLASS HEART TRINKET POT, BOUDOIR SQUARE...\n",
       "C581470                                 [RABBIT NIGHT LIGHT]\n",
       "C581484                        [PAPER CRAFT , LITTLE BIRDIE]\n",
       "C581490    [VICTORIAN GLASS HANGING T-LIGHT, ZINC T-LIGHT...\n",
       "C581499                                             [Manual]\n",
       "C581568                         [VICTORIAN SEWING BOX LARGE]\n",
       "C581569    [HANGING HEART JAR T-LIGHT HOLDER, 36 PENCILS ...\n",
       "Name: Description, Length: 25900, dtype: object"
      ]
     },
     "metadata": {},
     "output_type": "display_data"
    }
   ],
   "source": [
    "output_series = df.groupby(['InvoiceNo'])['Description'].apply(list)"
   ]
  },
  {
   "cell_type": "code",
   "execution_count": 59,
   "metadata": {},
   "outputs": [
    {
     "data": {
      "text/plain": [
       "InvoiceNo\n",
       "536365    [WHITE HANGING HEART T-LIGHT HOLDER, WHITE MET...\n",
       "536366    [HAND WARMER UNION JACK, HAND WARMER RED POLKA...\n",
       "536367    [ASSORTED COLOUR BIRD ORNAMENT, POPPY'S PLAYHO...\n",
       "536368    [JAM MAKING SET WITH JARS, RED COAT RACK PARIS...\n",
       "Name: Description, dtype: object"
      ]
     },
     "execution_count": 59,
     "metadata": {},
     "output_type": "execute_result"
    }
   ],
   "source": [
    "output_series[0:4]"
   ]
  },
  {
   "cell_type": "code",
   "execution_count": 29,
   "metadata": {},
   "outputs": [],
   "source": [
    "final_list_of_list = []\n",
    "\n",
    "for rows in output_series:\n",
    "    final_list_of_list.append(rows)"
   ]
  },
  {
   "cell_type": "code",
   "execution_count": 60,
   "metadata": {},
   "outputs": [
    {
     "data": {
      "text/plain": [
       "[['WHITE HANGING HEART T-LIGHT HOLDER',\n",
       "  'WHITE METAL LANTERN',\n",
       "  'CREAM CUPID HEARTS COAT HANGER',\n",
       "  'KNITTED UNION FLAG HOT WATER BOTTLE',\n",
       "  'RED WOOLLY HOTTIE WHITE HEART.',\n",
       "  'SET 7 BABUSHKA NESTING BOXES',\n",
       "  'GLASS STAR FROSTED T-LIGHT HOLDER'],\n",
       " ['HAND WARMER UNION JACK', 'HAND WARMER RED POLKA DOT'],\n",
       " ['ASSORTED COLOUR BIRD ORNAMENT',\n",
       "  \"POPPY'S PLAYHOUSE BEDROOM \",\n",
       "  \"POPPY'S PLAYHOUSE KITCHEN\",\n",
       "  'FELTCRAFT PRINCESS CHARLOTTE DOLL',\n",
       "  'IVORY KNITTED MUG COSY ',\n",
       "  'BOX OF 6 ASSORTED COLOUR TEASPOONS',\n",
       "  'BOX OF VINTAGE JIGSAW BLOCKS ',\n",
       "  'BOX OF VINTAGE ALPHABET BLOCKS',\n",
       "  'HOME BUILDING BLOCK WORD',\n",
       "  'LOVE BUILDING BLOCK WORD',\n",
       "  'RECIPE BOX WITH METAL HEART',\n",
       "  'DOORMAT NEW ENGLAND'],\n",
       " ['JAM MAKING SET WITH JARS',\n",
       "  'RED COAT RACK PARIS FASHION',\n",
       "  'YELLOW COAT RACK PARIS FASHION',\n",
       "  'BLUE COAT RACK PARIS FASHION']]"
      ]
     },
     "execution_count": 60,
     "metadata": {},
     "output_type": "execute_result"
    }
   ],
   "source": [
    "final_list_of_list[0:4]"
   ]
  },
  {
   "cell_type": "code",
   "execution_count": 35,
   "metadata": {},
   "outputs": [],
   "source": [
    "df_all_list = pd.DataFrame(data = final_list_of_list)"
   ]
  },
  {
   "cell_type": "code",
   "execution_count": 61,
   "metadata": {},
   "outputs": [
    {
     "data": {
      "text/plain": [
       "(25900, 1114)"
      ]
     },
     "metadata": {},
     "output_type": "display_data"
    },
    {
     "data": {
      "text/html": [
       "<div>\n",
       "<style scoped>\n",
       "    .dataframe tbody tr th:only-of-type {\n",
       "        vertical-align: middle;\n",
       "    }\n",
       "\n",
       "    .dataframe tbody tr th {\n",
       "        vertical-align: top;\n",
       "    }\n",
       "\n",
       "    .dataframe thead th {\n",
       "        text-align: right;\n",
       "    }\n",
       "</style>\n",
       "<table border=\"1\" class=\"dataframe\">\n",
       "  <thead>\n",
       "    <tr style=\"text-align: right;\">\n",
       "      <th></th>\n",
       "      <th>0</th>\n",
       "      <th>1</th>\n",
       "      <th>2</th>\n",
       "      <th>3</th>\n",
       "      <th>4</th>\n",
       "      <th>5</th>\n",
       "      <th>6</th>\n",
       "      <th>7</th>\n",
       "      <th>8</th>\n",
       "      <th>9</th>\n",
       "      <th>...</th>\n",
       "      <th>1104</th>\n",
       "      <th>1105</th>\n",
       "      <th>1106</th>\n",
       "      <th>1107</th>\n",
       "      <th>1108</th>\n",
       "      <th>1109</th>\n",
       "      <th>1110</th>\n",
       "      <th>1111</th>\n",
       "      <th>1112</th>\n",
       "      <th>1113</th>\n",
       "    </tr>\n",
       "  </thead>\n",
       "  <tbody>\n",
       "    <tr>\n",
       "      <th>0</th>\n",
       "      <td>WHITE HANGING HEART T-LIGHT HOLDER</td>\n",
       "      <td>WHITE METAL LANTERN</td>\n",
       "      <td>CREAM CUPID HEARTS COAT HANGER</td>\n",
       "      <td>KNITTED UNION FLAG HOT WATER BOTTLE</td>\n",
       "      <td>RED WOOLLY HOTTIE WHITE HEART.</td>\n",
       "      <td>SET 7 BABUSHKA NESTING BOXES</td>\n",
       "      <td>GLASS STAR FROSTED T-LIGHT HOLDER</td>\n",
       "      <td>None</td>\n",
       "      <td>None</td>\n",
       "      <td>None</td>\n",
       "      <td>...</td>\n",
       "      <td>None</td>\n",
       "      <td>None</td>\n",
       "      <td>None</td>\n",
       "      <td>None</td>\n",
       "      <td>None</td>\n",
       "      <td>None</td>\n",
       "      <td>None</td>\n",
       "      <td>None</td>\n",
       "      <td>None</td>\n",
       "      <td>None</td>\n",
       "    </tr>\n",
       "    <tr>\n",
       "      <th>1</th>\n",
       "      <td>HAND WARMER UNION JACK</td>\n",
       "      <td>HAND WARMER RED POLKA DOT</td>\n",
       "      <td>None</td>\n",
       "      <td>None</td>\n",
       "      <td>None</td>\n",
       "      <td>None</td>\n",
       "      <td>None</td>\n",
       "      <td>None</td>\n",
       "      <td>None</td>\n",
       "      <td>None</td>\n",
       "      <td>...</td>\n",
       "      <td>None</td>\n",
       "      <td>None</td>\n",
       "      <td>None</td>\n",
       "      <td>None</td>\n",
       "      <td>None</td>\n",
       "      <td>None</td>\n",
       "      <td>None</td>\n",
       "      <td>None</td>\n",
       "      <td>None</td>\n",
       "      <td>None</td>\n",
       "    </tr>\n",
       "    <tr>\n",
       "      <th>2</th>\n",
       "      <td>ASSORTED COLOUR BIRD ORNAMENT</td>\n",
       "      <td>POPPY'S PLAYHOUSE BEDROOM</td>\n",
       "      <td>POPPY'S PLAYHOUSE KITCHEN</td>\n",
       "      <td>FELTCRAFT PRINCESS CHARLOTTE DOLL</td>\n",
       "      <td>IVORY KNITTED MUG COSY</td>\n",
       "      <td>BOX OF 6 ASSORTED COLOUR TEASPOONS</td>\n",
       "      <td>BOX OF VINTAGE JIGSAW BLOCKS</td>\n",
       "      <td>BOX OF VINTAGE ALPHABET BLOCKS</td>\n",
       "      <td>HOME BUILDING BLOCK WORD</td>\n",
       "      <td>LOVE BUILDING BLOCK WORD</td>\n",
       "      <td>...</td>\n",
       "      <td>None</td>\n",
       "      <td>None</td>\n",
       "      <td>None</td>\n",
       "      <td>None</td>\n",
       "      <td>None</td>\n",
       "      <td>None</td>\n",
       "      <td>None</td>\n",
       "      <td>None</td>\n",
       "      <td>None</td>\n",
       "      <td>None</td>\n",
       "    </tr>\n",
       "    <tr>\n",
       "      <th>3</th>\n",
       "      <td>JAM MAKING SET WITH JARS</td>\n",
       "      <td>RED COAT RACK PARIS FASHION</td>\n",
       "      <td>YELLOW COAT RACK PARIS FASHION</td>\n",
       "      <td>BLUE COAT RACK PARIS FASHION</td>\n",
       "      <td>None</td>\n",
       "      <td>None</td>\n",
       "      <td>None</td>\n",
       "      <td>None</td>\n",
       "      <td>None</td>\n",
       "      <td>None</td>\n",
       "      <td>...</td>\n",
       "      <td>None</td>\n",
       "      <td>None</td>\n",
       "      <td>None</td>\n",
       "      <td>None</td>\n",
       "      <td>None</td>\n",
       "      <td>None</td>\n",
       "      <td>None</td>\n",
       "      <td>None</td>\n",
       "      <td>None</td>\n",
       "      <td>None</td>\n",
       "    </tr>\n",
       "    <tr>\n",
       "      <th>4</th>\n",
       "      <td>BATH BUILDING BLOCK WORD</td>\n",
       "      <td>None</td>\n",
       "      <td>None</td>\n",
       "      <td>None</td>\n",
       "      <td>None</td>\n",
       "      <td>None</td>\n",
       "      <td>None</td>\n",
       "      <td>None</td>\n",
       "      <td>None</td>\n",
       "      <td>None</td>\n",
       "      <td>...</td>\n",
       "      <td>None</td>\n",
       "      <td>None</td>\n",
       "      <td>None</td>\n",
       "      <td>None</td>\n",
       "      <td>None</td>\n",
       "      <td>None</td>\n",
       "      <td>None</td>\n",
       "      <td>None</td>\n",
       "      <td>None</td>\n",
       "      <td>None</td>\n",
       "    </tr>\n",
       "  </tbody>\n",
       "</table>\n",
       "<p>5 rows × 1114 columns</p>\n",
       "</div>"
      ],
      "text/plain": [
       "                                 0                            1     \\\n",
       "0  WHITE HANGING HEART T-LIGHT HOLDER          WHITE METAL LANTERN   \n",
       "1              HAND WARMER UNION JACK    HAND WARMER RED POLKA DOT   \n",
       "2       ASSORTED COLOUR BIRD ORNAMENT   POPPY'S PLAYHOUSE BEDROOM    \n",
       "3            JAM MAKING SET WITH JARS  RED COAT RACK PARIS FASHION   \n",
       "4            BATH BUILDING BLOCK WORD                         None   \n",
       "\n",
       "                             2                                    3     \\\n",
       "0  CREAM CUPID HEARTS COAT HANGER  KNITTED UNION FLAG HOT WATER BOTTLE   \n",
       "1                            None                                 None   \n",
       "2       POPPY'S PLAYHOUSE KITCHEN    FELTCRAFT PRINCESS CHARLOTTE DOLL   \n",
       "3  YELLOW COAT RACK PARIS FASHION         BLUE COAT RACK PARIS FASHION   \n",
       "4                            None                                 None   \n",
       "\n",
       "                             4                                   5     \\\n",
       "0  RED WOOLLY HOTTIE WHITE HEART.        SET 7 BABUSHKA NESTING BOXES   \n",
       "1                            None                                None   \n",
       "2         IVORY KNITTED MUG COSY   BOX OF 6 ASSORTED COLOUR TEASPOONS   \n",
       "3                            None                                None   \n",
       "4                            None                                None   \n",
       "\n",
       "                                6                               7     \\\n",
       "0  GLASS STAR FROSTED T-LIGHT HOLDER                            None   \n",
       "1                               None                            None   \n",
       "2      BOX OF VINTAGE JIGSAW BLOCKS   BOX OF VINTAGE ALPHABET BLOCKS   \n",
       "3                               None                            None   \n",
       "4                               None                            None   \n",
       "\n",
       "                       8                         9     ...  1104  1105  1106  \\\n",
       "0                      None                      None  ...  None  None  None   \n",
       "1                      None                      None  ...  None  None  None   \n",
       "2  HOME BUILDING BLOCK WORD  LOVE BUILDING BLOCK WORD  ...  None  None  None   \n",
       "3                      None                      None  ...  None  None  None   \n",
       "4                      None                      None  ...  None  None  None   \n",
       "\n",
       "   1107  1108  1109  1110  1111  1112  1113  \n",
       "0  None  None  None  None  None  None  None  \n",
       "1  None  None  None  None  None  None  None  \n",
       "2  None  None  None  None  None  None  None  \n",
       "3  None  None  None  None  None  None  None  \n",
       "4  None  None  None  None  None  None  None  \n",
       "\n",
       "[5 rows x 1114 columns]"
      ]
     },
     "metadata": {},
     "output_type": "display_data"
    }
   ],
   "source": [
    "display(df_all_list.shape)\n",
    "display(df_all_list.head())"
   ]
  },
  {
   "cell_type": "code",
   "execution_count": 37,
   "metadata": {},
   "outputs": [],
   "source": [
    "records = []\n",
    "\n",
    "for i in range(0,25900):\n",
    "    records.append([str(df_all_list.values[i,j]) for j in range(0,1114)])"
   ]
  },
  {
   "cell_type": "code",
   "execution_count": 44,
   "metadata": {},
   "outputs": [],
   "source": [
    "rules = apriori(records, \n",
    "                min_support = 0.01,\n",
    "                min_confidence = 0.01,\n",
    "                min_length = 2)"
   ]
  },
  {
   "cell_type": "code",
   "execution_count": 45,
   "metadata": {},
   "outputs": [],
   "source": [
    "asssociation_results  = list(rules)"
   ]
  },
  {
   "cell_type": "markdown",
   "metadata": {},
   "source": [
    "The itemsets that is consider."
   ]
  },
  {
   "cell_type": "code",
   "execution_count": 54,
   "metadata": {
    "scrolled": true
   },
   "outputs": [
    {
     "data": {
      "text/plain": [
       "frozenset({'JUMBO BAG RED RETROSPOT', 'JUMBO STORAGE BAG SKULLS'})"
      ]
     },
     "execution_count": 54,
     "metadata": {},
     "output_type": "execute_result"
    }
   ],
   "source": [
    "asssociation_results[1002][0]"
   ]
  },
  {
   "cell_type": "markdown",
   "metadata": {},
   "source": [
    "The support for the item-set"
   ]
  },
  {
   "cell_type": "code",
   "execution_count": 55,
   "metadata": {},
   "outputs": [
    {
     "data": {
      "text/plain": [
       "0.016023166023166023"
      ]
     },
     "execution_count": 55,
     "metadata": {},
     "output_type": "execute_result"
    }
   ],
   "source": [
    "asssociation_results[1002][1]"
   ]
  },
  {
   "cell_type": "markdown",
   "metadata": {},
   "source": [
    "In the add group, what are the combinations of itemsets "
   ]
  },
  {
   "cell_type": "code",
   "execution_count": 56,
   "metadata": {},
   "outputs": [
    {
     "data": {
      "text/plain": [
       "[OrderedStatistic(items_base=frozenset(), items_add=frozenset({'JUMBO STORAGE BAG SKULLS', 'JUMBO BAG RED RETROSPOT'}), confidence=0.016023166023166023, lift=1.0),\n",
       " OrderedStatistic(items_base=frozenset({'JUMBO BAG RED RETROSPOT'}), items_add=frozenset({'JUMBO STORAGE BAG SKULLS'}), confidence=0.19437939110070257, lift=7.110771510604797),\n",
       " OrderedStatistic(items_base=frozenset({'JUMBO STORAGE BAG SKULLS'}), items_add=frozenset({'JUMBO BAG RED RETROSPOT'}), confidence=0.5861581920903954, lift=7.110771510604796)]"
      ]
     },
     "execution_count": 56,
     "metadata": {},
     "output_type": "execute_result"
    }
   ],
   "source": [
    "asssociation_results[1002][2]"
   ]
  },
  {
   "cell_type": "code",
   "execution_count": 62,
   "metadata": {},
   "outputs": [
    {
     "data": {
      "text/plain": [
       "OrderedStatistic(items_base=frozenset(), items_add=frozenset({'JUMBO STORAGE BAG SKULLS', 'JUMBO BAG RED RETROSPOT'}), confidence=0.016023166023166023, lift=1.0)"
      ]
     },
     "execution_count": 62,
     "metadata": {},
     "output_type": "execute_result"
    }
   ],
   "source": [
    "asssociation_results[1002][2][0]"
   ]
  },
  {
   "cell_type": "code",
   "execution_count": 63,
   "metadata": {},
   "outputs": [
    {
     "data": {
      "text/plain": [
       "OrderedStatistic(items_base=frozenset({'JUMBO BAG RED RETROSPOT'}), items_add=frozenset({'JUMBO STORAGE BAG SKULLS'}), confidence=0.19437939110070257, lift=7.110771510604797)"
      ]
     },
     "execution_count": 63,
     "metadata": {},
     "output_type": "execute_result"
    }
   ],
   "source": [
    "asssociation_results[1002][2][1]"
   ]
  },
  {
   "cell_type": "code",
   "execution_count": 65,
   "metadata": {},
   "outputs": [
    {
     "data": {
      "text/plain": [
       "OrderedStatistic(items_base=frozenset({'JUMBO STORAGE BAG SKULLS'}), items_add=frozenset({'JUMBO BAG RED RETROSPOT'}), confidence=0.5861581920903954, lift=7.110771510604796)"
      ]
     },
     "execution_count": 65,
     "metadata": {},
     "output_type": "execute_result"
    }
   ],
   "source": [
    "asssociation_results[1002][2][2]"
   ]
  },
  {
   "cell_type": "markdown",
   "metadata": {},
   "source": [
    "Each RelationRecord  reflects all rules associated with a specific itemset (items) that has relevant rules. Support (support ), given that it’s simply a count of appearances of those items together, is the same for any rules involving those items, and so only appears once per RelationRecord. The ordered_statistic  reflects a list of all rules that met our min_confidence  and min_lift  requirements (parameterized when we called apriori() ). Each OrderedStatistic  contains the __antecedent (items_base)__ and __consequent (items_add)__ for the rule, as well as the associated confidence  and lift ."
   ]
  },
  {
   "cell_type": "markdown",
   "metadata": {},
   "source": [
    "What this mean for a business?\n",
    "1. Can these two items bundled together?? Say we had a confidence of 0.5, here we can say people who bought _JUMBO STORAGE BAG SKULLS_ also bought _JUMBO BAG RED RETROSPOT_\n",
    "2. Can we suggest a up-sell-cross-sell?? say bundle to items together, say bread is lower priced and bundle with jam a higher priced article. So this drives revenue. \n",
    "3. How do we set the treshold for support confidence? It known that higher confidence is better, but what is the treshold, we can figure out the treshold but taking revenue into consideration. The items sets with high revenue then we set the threshold at say 70% revenue etc. \n",
    "4. Cross check this with the promotions given say, buy x get y free, has this an effect on the apriori algorithm, We need to filter them out.\n",
    "5. Getting a clean txns data to mine is more important, then the parameters can be set. \n",
    "6. Say an item is bundled with two more, which one to keep or which one needs to be discarded.<br>\n",
    "<br>\n",
    "\n",
    "_Only the algorithm is half part of the story, using the mined data along with business concept to maximize the results_"
   ]
  },
  {
   "cell_type": "code",
   "execution_count": null,
   "metadata": {},
   "outputs": [],
   "source": [
    "%sql\n",
    "with itemsets as \n",
    "(\n",
    "select  \n",
    "concat(cast(ant. invoice_date as string),  cast(ant. customer_id as string)) as ant_unique_id, \n",
    "ant. article_nbr  as puller_Art    , \n",
    "concat(cast(con. invoice_date as string),  cast(con. customer_id as string)) as con_unique_id, \n",
    "con. article_nbr  as pulled_Art\n",
    "from affinity_dataset as ant -- antecedent\n",
    "inner   join \n",
    " affinity_dataset as con -- Consequent\n",
    "on \n",
    "ant. customer_id      = con. customer_id and \n",
    "ant. invoice_date     = con. invoice_date \n",
    "group by 1,2,3,4  \n",
    ")\n",
    ",\n",
    "\n",
    "total_txns_N as \n",
    "-- get the N i.e total transaction count\n",
    "(\n",
    "select count (*) as total_txns\n",
    "from (\n",
    "select customer_id , invoice_date \n",
    "from affinity_dataset \n",
    "group by  customer_id , invoice_date \n",
    ")\n",
    "),\n",
    "\n",
    "total_puller_N as \n",
    "-- get the N  puller i.e total transaction count\n",
    "(\n",
    "select  article_nbr  as puller_Art, count (customer_id ) as puller_txns\n",
    "from affinity_dataset \n",
    "group by  article_nbr\n",
    "order by puller_txns desc\n",
    "),\n",
    "\n",
    "total_pulled_N as \n",
    "\n",
    "-- get the N pulled i.e total transaction count\n",
    "(\n",
    "select  article_nbr as pulled_Art, count (customer_id ) as pulled_txns\n",
    "from affinity_dataset \n",
    "group by  article_nbr\n",
    "order by pulled_txns desc\n",
    "),\n",
    "\n",
    "total_intersection_N as -- A ∩ B count \n",
    "-- get the N i.e total transaction count\n",
    "(\n",
    "select pulled_art, puller_art, count (ant_unique_id) as intersec_txns\n",
    "from (\n",
    "select  ant_unique_id, puller_art, pulled_art  --count (ant_unique_id) as intersec_txns\n",
    "from itemsets )\n",
    "group by  pulled_art, puller_art\n",
    "),\n",
    "\n",
    "cross_join_table_1 as \n",
    "(\n",
    "select puller_art, pulled_art\n",
    "from itemsets\n",
    "group by 1,2\n",
    "),\n",
    "\n",
    "\n",
    "\n",
    "max_Date as \n",
    "(select max(PURCH_DT )\n",
    "from affinity_dataset ), \n",
    "\n",
    "-- If the difference between the average selling price of X and Y is more than 25% \n",
    "-- (i.e. if SP(X)>1.25*SP(Y) or SP(Y)>1.25*SP(X) ) then item with the higher selling \n",
    "-- price is considered as the one which is pulling and the other one is considered as being pulled.\n",
    "\n",
    "affinity_primary as (\n",
    "select its. *,  total_txns,intersec_txns ,\n",
    "puller_txns, pulled_txns\n",
    "from cross_join_table_1 as its\n",
    "cross join total_txns_N \n",
    "left join \n",
    "total_intersection_N as tin\n",
    "on \n",
    "its. puller_Art    = tin. puller_Art    and \n",
    "its. pulled_Art    = tin. pulled_Art \n",
    "left join \n",
    "total_puller_N as ant\n",
    "on \n",
    "ant. puller_Art     = its. puller_Art \n",
    "left join \n",
    "total_pulled_N as con\n",
    "on\n",
    "con. pulled_Art     = its. pulled_Art \n",
    "\n",
    "),\n",
    "-- cross sell problem\n",
    "-- adding the filter for confidence, where confidence is not 100%\n",
    "\n",
    "affinity_filer as (\n",
    "select * from (\n",
    "select *\n",
    "from affinity_primary\n",
    "where intersec_txns != puller_txns    -- same puller and pulled article are removed \n",
    "and pulled_Art is not null\n",
    "and puller_Art is not null)\n",
    ")\n",
    "\n",
    "select puller_art, pulled_art, \n",
    "safe_divide (intersec_txns, total_txns)  as Support, \n",
    "safe_divide (intersec_txns, puller_txns) as Confidence, \n",
    "safe_divide ((intersec_txns*total_txns),(puller_txns* pulled_txns)) as Lift\n",
    "from affinity_filer"
   ]
  }
 ],
 "metadata": {
  "kernelspec": {
   "display_name": "Python 3",
   "language": "python",
   "name": "python3"
  },
  "language_info": {
   "codemirror_mode": {
    "name": "ipython",
    "version": 3
   },
   "file_extension": ".py",
   "mimetype": "text/x-python",
   "name": "python",
   "nbconvert_exporter": "python",
   "pygments_lexer": "ipython3",
   "version": "3.7.3"
  }
 },
 "nbformat": 4,
 "nbformat_minor": 2
}
